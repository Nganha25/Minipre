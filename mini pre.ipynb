{
 "cells": [
  {
   "cell_type": "code",
   "execution_count": null,
   "id": "02f3a016",
   "metadata": {},
   "outputs": [],
   "source": [
    "Introduction\n",
    "\n",
    "This is information about the Australian FootBall League including information about playerId,displayName,height,weight,dob,position,\n",
    "origin. We collect them here on Kaggle.com. \n",
    "We want to study player statistics for the Australian Rules Football League (AFL), use Machine Learning to determine who the main players are, predict performance performance and results. \n",
    "Our aim is to filter information about the players to select the best players. \n",
    "Important players' performance that no one has noticed before. \n",
    "With scoring competitions in the AFL as popular as any other sport, surely this is just waiting for Data Science to take over and pick a winner like never before."
   ]
  },
  {
   "cell_type": "code",
   "execution_count": null,
   "id": "9b78d502",
   "metadata": {},
   "outputs": [],
   "source": [
    "playerId\n",
    "dob: date of birth\n",
    "height_cm: height in cm\n",
    "weight_kg: weight in kg\n",
    "nationality_name: nationality\n",
    "nation_position: position played in his country\n",
    "body_type: body type of a player\n",
    "nation_logo_url: the url where the logo of the country of the player is saved\n",
    "nation_flag_url: the url where the flag of the country of the player is saved"
   ]
  },
  {
   "cell_type": "code",
   "execution_count": 2,
   "id": "8ec1dcc6",
   "metadata": {},
   "outputs": [],
   "source": [
    "import pandas as pd"
   ]
  },
  {
   "cell_type": "code",
   "execution_count": 4,
   "id": "7ba0eac8",
   "metadata": {},
   "outputs": [],
   "source": [
    "data = pd.read_csv(r\"C:\\Users\\HP\\Desktop\\Anaconda\\players.csv\")"
   ]
  },
  {
   "cell_type": "code",
   "execution_count": 6,
   "id": "00ef8e12",
   "metadata": {},
   "outputs": [
    {
     "data": {
      "text/plain": [
       "Index(['playerId', 'displayName', 'height', 'weight', 'dob', 'position',\n",
       "       'origin'],\n",
       "      dtype='object')"
      ]
     },
     "execution_count": 6,
     "metadata": {},
     "output_type": "execute_result"
    }
   ],
   "source": [
    "data.columns"
   ]
  },
  {
   "cell_type": "code",
   "execution_count": 9,
   "id": "bc9b2a05",
   "metadata": {},
   "outputs": [
    {
     "data": {
      "text/html": [
       "<div>\n",
       "<style scoped>\n",
       "    .dataframe tbody tr th:only-of-type {\n",
       "        vertical-align: middle;\n",
       "    }\n",
       "\n",
       "    .dataframe tbody tr th {\n",
       "        vertical-align: top;\n",
       "    }\n",
       "\n",
       "    .dataframe thead th {\n",
       "        text-align: right;\n",
       "    }\n",
       "</style>\n",
       "<table border=\"1\" class=\"dataframe\">\n",
       "  <thead>\n",
       "    <tr style=\"text-align: right;\">\n",
       "      <th></th>\n",
       "      <th>height</th>\n",
       "      <th>weight</th>\n",
       "    </tr>\n",
       "  </thead>\n",
       "  <tbody>\n",
       "    <tr>\n",
       "      <th>0</th>\n",
       "      <td>181</td>\n",
       "      <td>81</td>\n",
       "    </tr>\n",
       "    <tr>\n",
       "      <th>1</th>\n",
       "      <td>181</td>\n",
       "      <td>81</td>\n",
       "    </tr>\n",
       "    <tr>\n",
       "      <th>2</th>\n",
       "      <td>198</td>\n",
       "      <td>83</td>\n",
       "    </tr>\n",
       "    <tr>\n",
       "      <th>3</th>\n",
       "      <td>189</td>\n",
       "      <td>80</td>\n",
       "    </tr>\n",
       "    <tr>\n",
       "      <th>4</th>\n",
       "      <td>187</td>\n",
       "      <td>85</td>\n",
       "    </tr>\n",
       "    <tr>\n",
       "      <th>...</th>\n",
       "      <td>...</td>\n",
       "      <td>...</td>\n",
       "    </tr>\n",
       "    <tr>\n",
       "      <th>1490</th>\n",
       "      <td>180</td>\n",
       "      <td>83</td>\n",
       "    </tr>\n",
       "    <tr>\n",
       "      <th>1491</th>\n",
       "      <td>190</td>\n",
       "      <td>87</td>\n",
       "    </tr>\n",
       "    <tr>\n",
       "      <th>1492</th>\n",
       "      <td>172</td>\n",
       "      <td>82</td>\n",
       "    </tr>\n",
       "    <tr>\n",
       "      <th>1493</th>\n",
       "      <td>183</td>\n",
       "      <td>89</td>\n",
       "    </tr>\n",
       "    <tr>\n",
       "      <th>1494</th>\n",
       "      <td>189</td>\n",
       "      <td>79</td>\n",
       "    </tr>\n",
       "  </tbody>\n",
       "</table>\n",
       "<p>1495 rows × 2 columns</p>\n",
       "</div>"
      ],
      "text/plain": [
       "      height  weight\n",
       "0        181      81\n",
       "1        181      81\n",
       "2        198      83\n",
       "3        189      80\n",
       "4        187      85\n",
       "...      ...     ...\n",
       "1490     180      83\n",
       "1491     190      87\n",
       "1492     172      82\n",
       "1493     183      89\n",
       "1494     189      79\n",
       "\n",
       "[1495 rows x 2 columns]"
      ]
     },
     "execution_count": 9,
     "metadata": {},
     "output_type": "execute_result"
    }
   ],
   "source": [
    "data[['height', 'weight']]"
   ]
  },
  {
   "cell_type": "code",
   "execution_count": null,
   "id": "19d9455b",
   "metadata": {},
   "outputs": [],
   "source": []
  }
 ],
 "metadata": {
  "kernelspec": {
   "display_name": "Python 3 (ipykernel)",
   "language": "python",
   "name": "python3"
  },
  "language_info": {
   "codemirror_mode": {
    "name": "ipython",
    "version": 3
   },
   "file_extension": ".py",
   "mimetype": "text/x-python",
   "name": "python",
   "nbconvert_exporter": "python",
   "pygments_lexer": "ipython3",
   "version": "3.11.4"
  }
 },
 "nbformat": 4,
 "nbformat_minor": 5
}
